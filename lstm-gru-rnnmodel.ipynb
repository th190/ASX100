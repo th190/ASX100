{
 "cells": [
  {
   "cell_type": "code",
   "execution_count": 2,
   "metadata": {},
   "outputs": [],
   "source": [
    "import numpy as np\n",
    "import pandas as pd\n",
    "import matplotlib.pyplot as plt\n",
    "\n",
    "import torch\n",
    "import torch.nn as nn\n",
    "import torch.optim as optim\n",
    "import talib\n",
    "\n",
    "from sklearn.model_selection import train_test_split\n",
    "from utils import get_model_inputs, seed_everything, load_stock_data\n",
    "from models import RNNmodel\n",
    "\n",
    "device = torch.device(\"cuda\")"
   ]
  },
  {
   "cell_type": "code",
   "execution_count": 4,
   "metadata": {},
   "outputs": [],
   "source": [
    "full_data = pd.read_csv('../input/asx100/ASX100.csv')\n",
    "\n",
    "input_dim = 10\n",
    "hidden_dim = 2000\n",
    "num_layers = 1 \n",
    "rnn_type = 'gru'\n",
    "\n",
    "n_back = 20\n",
    "n_forward = 5\n",
    "\n",
    "val_split = 0.2\n",
    "batch_size = 7000 \n",
    "num_epochs = 100\n",
    "learning_rate = 0.7\n",
    "\n",
    "seed_everything(1)\n",
    "\n",
    "train_data, test_data, scalers = load_stock_data(full_data, n_back, test_date_split=\"2019-01-01\", TI=True)\n",
    "all_stocks = train_data.keys()\n",
    "\n",
    "input_data = {stock: get_model_inputs(stock, train_data, n_back, n_forward) for stock in all_stocks}\n",
    "\n",
    "x = np.concatenate([input_data[stock][0] for stock in all_stocks], axis=0)\n",
    "y = np.concatenate([input_data[stock][1] for stock in all_stocks], axis=0)\n",
    "\n",
    "x_train, x_val, y_train, y_val = [torch.from_numpy(a) for a in train_test_split(x, y, test_size=val_split, random_state=42)]\n",
    "\n",
    "\n",
    "train = torch.utils.data.TensorDataset(x_train, y_train)\n",
    "train_loader = torch.utils.data.DataLoader(dataset=train, \n",
    "                                           batch_size=batch_size, \n",
    "                                           shuffle=False,\n",
    "                                           num_workers = 0)\n",
    "\n",
    "val = torch.utils.data.TensorDataset(x_val, y_val)\n",
    "val_loader = torch.utils.data.DataLoader(dataset=val, \n",
    "                                           batch_size=batch_size, \n",
    "                                           shuffle=False,\n",
    "                                           num_workers=0)\n",
    "\n",
    "model = RNNmodel(input_dim, hidden_dim, num_layers, n_forward, rnn_type, device)\n",
    "\n",
    "\n",
    "optimizer = torch.optim.SGD(model.rnn.parameters(), lr=learning_rate)\n",
    "scheduler = torch.optim.lr_scheduler.ReduceLROnPlateau(optimizer, mode='min', factor=0.9, patience=10, threshold=0.00005)"
   ]
  },
  {
   "cell_type": "code",
   "execution_count": null,
   "metadata": {},
   "outputs": [],
   "source": [
    "losses = []\n",
    "losses_val = []\n",
    "print_every = 1\n",
    "for epoch in range(1, num_epochs+1):\n",
    "    for i, (input_tensor, target_tensor) in enumerate(train_loader):\n",
    "        input_tensor, target_tensor = input_tensor.to(device), target_tensor.to(device)\n",
    "        \n",
    "        loss = model.train_step(input_tensor, target_tensor, optimizer)\n",
    "        \n",
    "        loss_val = 0\n",
    "        for j, (val_input_tensor, val_target_tensor) in enumerate(val_loader):\n",
    "            val_input_tensor, val_target_tensor = val_input_tensor.to(device), val_target_tensor.to(device)\n",
    "            loss_val += model.validate(val_input_tensor, val_target_tensor).item()\n",
    "        loss_val /= len(val_loader)\n",
    "        \n",
    "        print(\".\", end='')\n",
    "        losses.append(loss)    \n",
    "        losses_val.append(loss_val)  \n",
    "        scheduler.step(loss_val)\n",
    "        \n",
    "        if epoch % print_every == 0 and i == len(train_loader)-1:\n",
    "            print('Epoch %d [%d/%d] loss: %.6f loss_val: %.6f lr: %.10f' % (epoch, i, len(train_loader)-1, loss, loss_val, optimizer.param_groups[0]['lr']))\n",
    "#     if epoch % 10 == 0:\n",
    "#         print(model.get_metrics(all_stocks, test_data, scalers, n_back, n_forward).mean())"
   ]
  },
  {
   "cell_type": "code",
   "execution_count": null,
   "metadata": {},
   "outputs": [],
   "source": [
    "metrics = model.get_metrics(all_stocks, test_data, scalers, n_back, n_forward)"
   ]
  },
  {
   "cell_type": "code",
   "execution_count": null,
   "metadata": {},
   "outputs": [],
   "source": [
    "metrics.mean()"
   ]
  },
  {
   "cell_type": "code",
   "execution_count": 8,
   "metadata": {},
   "outputs": [],
   "source": [
    "model.save_model(\"./model_checkpoints/gru_100_2000_7000_07.pt\")  "
   ]
  }
 ],
 "metadata": {
  "kernelspec": {
   "display_name": "Python 3",
   "language": "python",
   "name": "python3"
  },
  "language_info": {
   "codemirror_mode": {
    "name": "ipython",
    "version": 3
   },
   "file_extension": ".py",
   "mimetype": "text/x-python",
   "name": "python",
   "nbconvert_exporter": "python",
   "pygments_lexer": "ipython3",
   "version": "3.7.6"
  }
 },
 "nbformat": 4,
 "nbformat_minor": 4
}
