{
 "cells": [
  {
   "cell_type": "code",
   "execution_count": 1,
   "metadata": {},
   "outputs": [],
   "source": [
    "import numpy as np\n",
    "import pandas as pd\n",
    "import matplotlib.pyplot as plt\n",
    "import talib\n",
    "\n",
    "from utils import get_model_inputs, seed_everything, load_stock_data\n",
    "from models import MLP\n",
    "\n",
    "from sklearn.model_selection import train_test_split\n",
    "from sklearn.metrics import mean_squared_error, mean_absolute_error"
   ]
  },
  {
   "cell_type": "code",
   "execution_count": 2,
   "metadata": {},
   "outputs": [],
   "source": [
    "full_data = pd.read_csv('ASX100.csv')\n",
    "\n",
    "hidden_size = 150\n",
    "n_back = 20\n",
    "n_forward = 5\n",
    "val_split = 0.2\n",
    "\n",
    "train_data, test_data, scalers = load_stock_data(full_data, n_back, test_date_split=\"2019-01-01\", TI=True)\n",
    "\n",
    "all_stocks = train_data.keys()\n",
    "\n",
    "input_data = {stock: get_model_inputs(stock, train_data, n_back, n_forward) for stock in all_stocks}\n",
    "\n",
    "x = np.concatenate([input_data[stock][0] for stock in all_stocks], axis=0)\n",
    "y = np.concatenate([input_data[stock][1] for stock in all_stocks], axis=0)\n",
    "x = x.reshape((x.shape[0], -1))\n",
    "\n",
    "x_train, x_val, y_train, y_val = train_test_split(x, y, test_size=val_split, random_state=42)"
   ]
  },
  {
   "cell_type": "code",
   "execution_count": 3,
   "metadata": {},
   "outputs": [
    {
     "name": "stdout",
     "output_type": "stream",
     "text": [
      "0.04081077355565656\n"
     ]
    }
   ],
   "source": [
    "seed_everything(1)\n",
    "model = MLP(n_back, hidden_size, n_forward)\n",
    "model.fit(x_train, y_train)\n",
    "print(mean_squared_error(model.predict(x_val), y_val))"
   ]
  },
  {
   "cell_type": "code",
   "execution_count": 4,
   "metadata": {},
   "outputs": [],
   "source": [
    "metrics = model.get_metrics(all_stocks, test_data, scalers, n_back, n_forward)"
   ]
  },
  {
   "cell_type": "code",
   "execution_count": 5,
   "metadata": {},
   "outputs": [
    {
     "data": {
      "text/plain": [
       "rmse    1.065067\n",
       "mae     0.808692\n",
       "mape    0.034984\n",
       "dtype: float64"
      ]
     },
     "execution_count": 5,
     "metadata": {},
     "output_type": "execute_result"
    }
   ],
   "source": [
    "metrics.mean()"
   ]
  },
  {
   "cell_type": "code",
   "execution_count": 7,
   "metadata": {},
   "outputs": [],
   "source": [
    "model.save_model('./model_checkpoints/mlp.model')"
   ]
  },
  {
   "cell_type": "code",
   "execution_count": null,
   "metadata": {},
   "outputs": [],
   "source": []
  }
 ],
 "metadata": {
  "kernelspec": {
   "display_name": "Python 3",
   "language": "python",
   "name": "python3"
  },
  "language_info": {
   "codemirror_mode": {
    "name": "ipython",
    "version": 3
   },
   "file_extension": ".py",
   "mimetype": "text/x-python",
   "name": "python",
   "nbconvert_exporter": "python",
   "pygments_lexer": "ipython3",
   "version": "3.7.6"
  }
 },
 "nbformat": 4,
 "nbformat_minor": 4
}
