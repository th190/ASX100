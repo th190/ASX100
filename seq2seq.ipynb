{
 "cells": [
  {
   "cell_type": "code",
   "execution_count": null,
   "metadata": {
    "papermill": {
     "duration": 2.59569,
     "end_time": "2021-02-12T06:51:38.793248",
     "exception": false,
     "start_time": "2021-02-12T06:51:36.197558",
     "status": "completed"
    },
    "tags": []
   },
   "outputs": [],
   "source": [
    "import numpy as np\n",
    "import pandas as pd\n",
    "import matplotlib.pyplot as plt\n",
    "\n",
    "import torch\n",
    "import torch.nn as nn\n",
    "import torch.optim as optim\n",
    "import torch.nn.functional as F\n",
    "import talib\n",
    "from sklearn.metrics import mean_squared_error, mean_absolute_error\n",
    "from sklearn.model_selection import train_test_split\n",
    "from utils import get_model_inputs, seed_everything, load_stock_data\n",
    "from models import Seq2Seq\n",
    "\n",
    "device = torch.device(\"cuda\")\n",
    "# device = torch.device(\"cpu\")"
   ]
  },
  {
   "cell_type": "code",
   "execution_count": null,
   "metadata": {
    "papermill": {
     "duration": 0.230395,
     "end_time": "2021-02-12T06:51:39.034405",
     "exception": false,
     "start_time": "2021-02-12T06:51:38.804010",
     "status": "completed"
    },
    "tags": []
   },
   "outputs": [],
   "source": [
    "full_data = pd.read_csv('ASX100.csv')\n",
    "rnn_num_layers = 1\n",
    "input_feature_len = 10\n",
    "hidden_size = 2000\n",
    "\n",
    "n_back = 20\n",
    "n_forward = 5\n",
    "rnn_type = 'gru'\n",
    "\n",
    "val_split = 0.2\n",
    "batch_size = 6000 \n",
    "n_epochs = 90\n",
    "learning_rate = 0.05 \n",
    "teacher_forcing_ratio = 1"
   ]
  },
  {
   "cell_type": "code",
   "execution_count": null,
   "metadata": {
    "papermill": {
     "duration": 3.90386,
     "end_time": "2021-02-12T06:51:42.949284",
     "exception": false,
     "start_time": "2021-02-12T06:51:39.045424",
     "status": "completed"
    },
    "tags": []
   },
   "outputs": [],
   "source": [
    "seed_everything(1)\n",
    "    \n",
    "train_data, test_data, scalers = load_stock_data(full_data, n_back, test_date_split=\"2019-01-01\", TI=True)\n",
    "all_stocks = train_data.keys()\n",
    "\n",
    "input_data = {stock: get_model_inputs(stock, train_data, n_back, n_forward) for stock in all_stocks}\n",
    "\n",
    "x = np.concatenate([input_data[stock][0] for stock in all_stocks], axis=0)\n",
    "y = np.expand_dims(np.concatenate([input_data[stock][1] for stock in all_stocks], axis=0), -1)\n",
    "\n",
    "x_train, x_val, y_train, y_val = [torch.from_numpy(a) for a in train_test_split(x, y, test_size=val_split, random_state=42)]\n",
    "\n",
    "\n",
    "train = torch.utils.data.TensorDataset(x_train, y_train)\n",
    "train_loader = torch.utils.data.DataLoader(dataset=train, \n",
    "                                           batch_size=batch_size, \n",
    "                                           shuffle=False,\n",
    "                                           num_workers = 0)\n",
    "\n",
    "val = torch.utils.data.TensorDataset(x_val, y_val)\n",
    "val_loader = torch.utils.data.DataLoader(dataset=val, \n",
    "                                           batch_size=batch_size, \n",
    "                                           shuffle=False,\n",
    "                                           num_workers=0)\n"
   ]
  },
  {
   "cell_type": "code",
   "execution_count": null,
   "metadata": {
    "papermill": {
     "duration": 0.029734,
     "end_time": "2021-02-12T06:51:42.995324",
     "exception": false,
     "start_time": "2021-02-12T06:51:42.965590",
     "status": "completed"
    },
    "tags": []
   },
   "outputs": [],
   "source": [
    "x_train.size()"
   ]
  },
  {
   "cell_type": "code",
   "execution_count": null,
   "metadata": {
    "papermill": {
     "duration": 0.030519,
     "end_time": "2021-02-12T06:51:43.041639",
     "exception": false,
     "start_time": "2021-02-12T06:51:43.011120",
     "status": "completed"
    },
    "tags": []
   },
   "outputs": [],
   "source": [
    "len(all_stocks)"
   ]
  },
  {
   "cell_type": "code",
   "execution_count": null,
   "metadata": {
    "papermill": {
     "duration": 6.157484,
     "end_time": "2021-02-12T06:51:49.216716",
     "exception": false,
     "start_time": "2021-02-12T06:51:43.059232",
     "status": "completed"
    },
    "tags": []
   },
   "outputs": [],
   "source": [
    "model = Seq2Seq(input_feature_len, hidden_size, rnn_num_layers, n_back, attn_dim=None, rnn_type=rnn_type, use_attn=False, device=device)\n",
    "\n",
    "encoder_optimizer = optim.SGD(model.encoder.parameters(), lr=learning_rate)\n",
    "decoder_optimizer = optim.SGD(model.decoder.parameters(), lr=learning_rate)\n",
    "\n",
    "encoder_scheduler = torch.optim.lr_scheduler.ReduceLROnPlateau(encoder_optimizer, mode='min', factor=0.9, patience=7, threshold=0.00005)\n",
    "decoder_scheduler = torch.optim.lr_scheduler.ReduceLROnPlateau(decoder_optimizer, mode='min', factor=0.9, patience=7, threshold=0.00005)"
   ]
  },
  {
   "cell_type": "code",
   "execution_count": null,
   "metadata": {
    "papermill": {
     "duration": 3272.358227,
     "end_time": "2021-02-12T07:46:21.624690",
     "exception": false,
     "start_time": "2021-02-12T06:51:49.266463",
     "status": "completed"
    },
    "tags": []
   },
   "outputs": [],
   "source": [
    "%%time \n",
    "losses = []\n",
    "losses_val = []\n",
    "for epoch in range(1, n_epochs+1):\n",
    "    for i, (input_tensor, target_tensor) in enumerate(train_loader):\n",
    "        input_tensor, target_tensor = input_tensor.to(device), target_tensor.to(device)\n",
    "        loss = model.train_step(input_tensor, target_tensor, encoder_optimizer, decoder_optimizer, teacher_forcing_ratio)\n",
    "\n",
    "        loss_val = 0\n",
    "        for j, (val_input_tensor, val_target_tensor) in enumerate(val_loader):\n",
    "            val_input_tensor, val_target_tensor = val_input_tensor.to(device), val_target_tensor.to(device)\n",
    "            loss_val += model.validate(val_input_tensor, val_target_tensor, n_forward).item()\n",
    "        loss_val /= len(val_loader)\n",
    "        \n",
    "        losses.append(loss)    \n",
    "        losses_val.append(loss_val)  \n",
    "        encoder_scheduler.step(loss_val)\n",
    "        decoder_scheduler.step(loss_val) \n",
    "        print(\".\", end='')\n",
    "        if epoch % 1 == 0 and (i == len(train_loader)-1):# or i % 10 == 0):\n",
    "            print('Epoch %d [%d/%d] loss: %.4f loss_val: %.4f lr: %.10f' % (epoch, i, len(train_loader)-1, loss, loss_val, encoder_optimizer.param_groups[0]['lr']))\n",
    "#     if epoch % 5 == 0:\n",
    "#         print(model.get_metrics(all_stocks, test_data, scalers, n_back, n_forward).mean())\n",
    "#         model.save_model(\"seq2seq_%d_2000_4000_005.pt\"%epoch)"
   ]
  },
  {
   "cell_type": "code",
   "execution_count": null,
   "metadata": {
    "papermill": {
     "duration": 10.580762,
     "end_time": "2021-02-12T07:46:32.617787",
     "exception": false,
     "start_time": "2021-02-12T07:46:22.037025",
     "status": "completed"
    },
    "tags": []
   },
   "outputs": [],
   "source": [
    "%%time \n",
    "metrics = model.get_metrics(all_stocks, test_data, scalers, n_back, n_forward)"
   ]
  },
  {
   "cell_type": "code",
   "execution_count": null,
   "metadata": {
    "papermill": {
     "duration": 0.148505,
     "end_time": "2021-02-12T07:46:32.905657",
     "exception": false,
     "start_time": "2021-02-12T07:46:32.757152",
     "status": "completed"
    },
    "tags": []
   },
   "outputs": [],
   "source": [
    "metrics.mean()"
   ]
  },
  {
   "cell_type": "code",
   "execution_count": null,
   "metadata": {
    "papermill": {
     "duration": 0.139436,
     "end_time": "2021-02-12T07:46:33.181935",
     "exception": false,
     "start_time": "2021-02-12T07:46:33.042499",
     "status": "completed"
    },
    "tags": []
   },
   "outputs": [],
   "source": [
    "model.save_model(\"./model_checkpoints/seq2seq_90_2000_6000_005.pt\")"
   ]
  }
 ],
 "metadata": {
  "kernelspec": {
   "display_name": "Python 3",
   "language": "python",
   "name": "python3"
  },
  "language_info": {
   "codemirror_mode": {
    "name": "ipython",
    "version": 3
   },
   "file_extension": ".py",
   "mimetype": "text/x-python",
   "name": "python",
   "nbconvert_exporter": "python",
   "pygments_lexer": "ipython3",
   "version": "3.7.6"
  },
  "papermill": {
   "default_parameters": {},
   "duration": 3312.62881,
   "end_time": "2021-02-12T07:46:35.261267",
   "environment_variables": {},
   "exception": null,
   "input_path": "__notebook__.ipynb",
   "output_path": "__notebook__.ipynb",
   "parameters": {},
   "start_time": "2021-02-12T06:51:22.632457",
   "version": "2.2.2"
  }
 },
 "nbformat": 4,
 "nbformat_minor": 4
}
